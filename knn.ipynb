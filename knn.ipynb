import os 
import numpy as np
import pasdas as pd
